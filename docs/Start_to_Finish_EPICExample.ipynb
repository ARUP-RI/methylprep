{
 "cells": [
  {
   "cell_type": "markdown",
   "metadata": {},
   "source": [
    "## Methpype usage example\n",
    "The following notebook details a usage example for the python-based Illumina methylation array preprocessing software, methpype, using an example 450k Illumina experiment. To learn more about the specifications of Illumina's EPIC array, check out their [support page](https://support.illumina.com/array/array_kits/infinium-methylationepic-beadchip-kit/downloads.html)."
   ]
  },
  {
   "cell_type": "markdown",
   "metadata": {},
   "source": [
    "### Module import\n",
    "First we need to import the methpype module."
   ]
  },
  {
   "cell_type": "code",
   "execution_count": 1,
   "metadata": {},
   "outputs": [],
   "source": [
    "# add directory of function to path\n",
    "import sys\n",
    "sys.path.append(\"/Users/nrigby/GitHub/methpype/methpype/\")\n",
    "\n",
    "# import functions from methpype\n",
    "import utils as utils\n",
    "import data_extraction as datext\n",
    "import preprocess as preprocess\n",
    "import postprocess as postprocess"
   ]
  },
  {
   "cell_type": "markdown",
   "metadata": {},
   "source": [
    "### Reading the samplesheet\n",
    "We begin the methpype pipeline by reading in the Illumina samplesheet. This is most often provided in the data output if you receive your Illumina data from an outsourced laboratory. methpype requires that the columns \"Sentrix_Position\" and \"Sentrix_ID\" are both in the samplesheet. These are used to uniquely identify each sample.\n",
    "\n",
    "To read in the samplesheet, we'll call the `read_sample_sheet` from `methpype.utils`. This function takes only one argument: the full path to the base directory in which your samplesheet and associated IDAT files are stored.\n",
    "\n",
    "We're going to be using some example data downloaded from NCBI's GEOdatasets. For simplicity, let's use a subset of [GSE100850](https://www.ncbi.nlm.nih.gov/geo/query/acc.cgi?acc=GSE100850)."
   ]
  },
  {
   "cell_type": "code",
   "execution_count": 2,
   "metadata": {},
   "outputs": [],
   "source": [
    "# read in the sample sheet for the experiment\n",
    "baseDir = \"/Users/nrigby/GitHub/methpype/docs/example_data/GSE100850/\"\n",
    "sheet = utils.read_sample_sheet(baseDir)"
   ]
  },
  {
   "cell_type": "markdown",
   "metadata": {},
   "source": [
    "After reading in the samplesheet, we can view the results. As you can see this is stored as a pandas dataframe. The columns \"Sentrix_Position\" and \"Sentrix_ID\" have been renamed to \"Slide\" and \"Array\". Also, a column called \"Basename\" has been added, which contains the base path for each of the samples. This is used later to read in the IDAT files for each sample.\n",
    "\n",
    "Your own samplesheet may have more columns than our example here. You may choose to store addtional phenotypic data for each sample in your samplesheet that can be used later for analysis. For this example, however, we're working with a small samplesize with few features."
   ]
  },
  {
   "cell_type": "code",
   "execution_count": 3,
   "metadata": {},
   "outputs": [
    {
     "data": {
      "text/html": [
       "<div>\n",
       "<style scoped>\n",
       "    .dataframe tbody tr th:only-of-type {\n",
       "        vertical-align: middle;\n",
       "    }\n",
       "\n",
       "    .dataframe tbody tr th {\n",
       "        vertical-align: top;\n",
       "    }\n",
       "\n",
       "    .dataframe thead th {\n",
       "        text-align: right;\n",
       "    }\n",
       "</style>\n",
       "<table border=\"1\" class=\"dataframe\">\n",
       "  <thead>\n",
       "    <tr style=\"text-align: right;\">\n",
       "      <th></th>\n",
       "      <th>GSM_ID</th>\n",
       "      <th>Sample_Name</th>\n",
       "      <th>Slide</th>\n",
       "      <th>Array</th>\n",
       "      <th>Basename</th>\n",
       "    </tr>\n",
       "  </thead>\n",
       "  <tbody>\n",
       "    <tr>\n",
       "      <th>0</th>\n",
       "      <td>GSM2695082</td>\n",
       "      <td>NormalBreastTissueOld</td>\n",
       "      <td>200526210010</td>\n",
       "      <td>R01C01</td>\n",
       "      <td>/Users/nrigby/GitHub/methpype/docs/example_dat...</td>\n",
       "    </tr>\n",
       "    <tr>\n",
       "      <th>1</th>\n",
       "      <td>GSM2695083</td>\n",
       "      <td>BreastCancerOld</td>\n",
       "      <td>200526210010</td>\n",
       "      <td>R02C01</td>\n",
       "      <td>/Users/nrigby/GitHub/methpype/docs/example_dat...</td>\n",
       "    </tr>\n",
       "  </tbody>\n",
       "</table>\n",
       "</div>"
      ],
      "text/plain": [
       "       GSM_ID            Sample_Name         Slide   Array  \\\n",
       "0  GSM2695082  NormalBreastTissueOld  200526210010  R01C01   \n",
       "1  GSM2695083        BreastCancerOld  200526210010  R02C01   \n",
       "\n",
       "                                            Basename  \n",
       "0  /Users/nrigby/GitHub/methpype/docs/example_dat...  \n",
       "1  /Users/nrigby/GitHub/methpype/docs/example_dat...  "
      ]
     },
     "execution_count": 3,
     "metadata": {},
     "output_type": "execute_result"
    }
   ],
   "source": [
    "sheet"
   ]
  },
  {
   "cell_type": "markdown",
   "metadata": {},
   "source": [
    "### Extracting the raw data\n",
    "Next, we'll extract the raw, binary data from each of the IDAT files and store it in a RawDataset object. We can do this using the function `extract_raw_data` from `methpype.data_extraction`. This function takes only one argument, the samplesheet dataframe we created in the previous step."
   ]
  },
  {
   "cell_type": "code",
   "execution_count": 4,
   "metadata": {},
   "outputs": [
    {
     "name": "stdout",
     "output_type": "stream",
     "text": [
      "Reading IDAT file 1 of 4: /Users/nrigby/GitHub/methpype/docs/example_data/GSE100850/GSM2695082_200526210010_R01C01_Grn.idat\n",
      "Reading IDAT file 2 of 4: /Users/nrigby/GitHub/methpype/docs/example_data/GSE100850/GSM2695082_200526210010_R01C01_Red.idat\n",
      "Reading IDAT file 3 of 4: /Users/nrigby/GitHub/methpype/docs/example_data/GSE100850/GSM2695083_200526210010_R02C01_Grn.idat\n",
      "Reading IDAT file 4 of 4: /Users/nrigby/GitHub/methpype/docs/example_data/GSE100850/GSM2695083_200526210010_R02C01_Red.idat\n",
      "Determining array type and reading manifest file.\n",
      "Reading manifest file for IlluminaHumanMethylationEPIC array\n"
     ]
    }
   ],
   "source": [
    "raw_dataset = datext.extract_raw_data(sheet)"
   ]
  },
  {
   "cell_type": "markdown",
   "metadata": {},
   "source": [
    "As you can see, the `extract_raw_data` function not only reads in the green and red IDAT files for each sample, but it also reads in the Illumina manifest file for our array type. \n",
    "\n",
    "Let's take a closer look at the RawDataset class."
   ]
  },
  {
   "cell_type": "code",
   "execution_count": 5,
   "metadata": {},
   "outputs": [
    {
     "data": {
      "text/plain": [
       "data_extraction.RawDataset"
      ]
     },
     "execution_count": 5,
     "metadata": {},
     "output_type": "execute_result"
    }
   ],
   "source": [
    "# confirm data type\n",
    "type(raw_dataset)"
   ]
  },
  {
   "cell_type": "markdown",
   "metadata": {},
   "source": [
    "The RawDataset class works much like a dictionary (or a scikit-learn Bunch if you're familiar with that class). If we look at the keys in our RawDataset instance, we can see the type of data that is stored as a result of our raw data extraction."
   ]
  },
  {
   "cell_type": "code",
   "execution_count": 6,
   "metadata": {},
   "outputs": [
    {
     "data": {
      "text/plain": [
       "dict_keys(['idat_objects', 'manifest', 'manifest_columns', 'array', 'samplesheet', 'data_type'])"
      ]
     },
     "execution_count": 6,
     "metadata": {},
     "output_type": "execute_result"
    }
   ],
   "source": [
    "raw_dataset.keys()"
   ]
  },
  {
   "cell_type": "markdown",
   "metadata": {},
   "source": [
    "#### RawDataset attributes\n",
    ">- **`idat_objects:`** A list of all of the IDAT objects associated with the dataset. There will be two IDAT files for each sample in the samplesheet: one red and one green.\n",
    ">- **`manifest:`** A two-dimensional numpy array containing the Illumina manifest information for our particular array. In this case the manifest pertains to an Illumina 450K array.\n",
    ">- **`manifest_columns:`** A one-dimensional numpy array containing the column headers for the manifest.\n",
    ">- **`array:`** A string specifying the Illumina array type. 450K, EPIC and Custom Life EGX EPIC+ arrays are currently supported.\n",
    ">- **`sample_sheet:`** Our samplesheet dataframe that we read in earlier.\n",
    ">- **`data_type:`** String specifying the dataset type. In the case of a RawDataset, the data_type will be \"Raw\". This is used internally by later functions to determine the dataset type. \n",
    "\n",
    "Each attribute can be accessed using dot notation. For example, we can get the array type of the dataset from `RawDataset.array`."
   ]
  },
  {
   "cell_type": "code",
   "execution_count": 7,
   "metadata": {},
   "outputs": [
    {
     "data": {
      "text/plain": [
       "'IlluminaHumanMethylationEPIC'"
      ]
     },
     "execution_count": 7,
     "metadata": {},
     "output_type": "execute_result"
    }
   ],
   "source": [
    "raw_dataset.array"
   ]
  },
  {
   "cell_type": "code",
   "execution_count": 8,
   "metadata": {},
   "outputs": [
    {
     "name": "stdout",
     "output_type": "stream",
     "text": [
      "200526210010 R01C01 green\n",
      "200526210010 R01C01 red\n",
      "200526210010 R02C01 green\n",
      "200526210010 R02C01 red\n"
     ]
    }
   ],
   "source": [
    "# look at the idat names and colors - each sample should have a red and a green\n",
    "for idat in raw_dataset.idat_objects:\n",
    "    print(idat.barcode,idat.array_name,idat.color)"
   ]
  },
  {
   "cell_type": "markdown",
   "metadata": {},
   "source": [
    "There are several methods associated with the RawDataset class that are designed for internal use, but can be called on their own."
   ]
  },
  {
   "cell_type": "code",
   "execution_count": 9,
   "metadata": {},
   "outputs": [
    {
     "data": {
      "text/plain": [
       "[16777216,\n",
       " 35651586,\n",
       " 16777220,\n",
       " 81788932,\n",
       " 56623110,\n",
       " 58720264,\n",
       " 35651594,\n",
       " 58720268,\n",
       " 89617430,\n",
       " 58720272]"
      ]
     },
     "execution_count": 9,
     "metadata": {},
     "output_type": "execute_result"
    }
   ],
   "source": [
    "# you can get the list of probe addresses that are common for all samples in the experiment\n",
    "# look at the first 10\n",
    "raw_dataset.get_common_addresses()[0:10]"
   ]
  },
  {
   "cell_type": "code",
   "execution_count": 10,
   "metadata": {
    "scrolled": true
   },
   "outputs": [
    {
     "data": {
      "text/plain": [
       "array([[16777216,     1551,     1229],\n",
       "       [35651586,     1707,     1480],\n",
       "       [16777220,     2925,     3416],\n",
       "       ...,\n",
       "       [16777210,      143,      171],\n",
       "       [58720252,      830,     1962],\n",
       "       [56623102,     1336,      957]])"
      ]
     },
     "execution_count": 10,
     "metadata": {},
     "output_type": "execute_result"
    }
   ],
   "source": [
    "# view the green probe mean intensities for all samples\n",
    "green_means, green_columns = raw_dataset.get_color_means(color='green')\n",
    "green_means"
   ]
  },
  {
   "cell_type": "code",
   "execution_count": 11,
   "metadata": {},
   "outputs": [
    {
     "data": {
      "text/plain": [
       "array(['Address', '200526210010_R01C01', '200526210010_R02C01'],\n",
       "      dtype='<U19')"
      ]
     },
     "execution_count": 11,
     "metadata": {},
     "output_type": "execute_result"
    }
   ],
   "source": [
    "green_columns"
   ]
  },
  {
   "cell_type": "code",
   "execution_count": 12,
   "metadata": {
    "scrolled": true
   },
   "outputs": [
    {
     "data": {
      "text/plain": [
       "array([[16777216,      505,      294],\n",
       "       [35651586,     1193,      594],\n",
       "       [16777220,     1280,      874],\n",
       "       ...,\n",
       "       [16777210,     1117,      855],\n",
       "       [58720252,      269,      458],\n",
       "       [56623102,      456,      602]])"
      ]
     },
     "execution_count": 12,
     "metadata": {},
     "output_type": "execute_result"
    }
   ],
   "source": [
    "# view the red probe mean intensities\n",
    "red_means, red_columns = raw_dataset.get_color_means(color='red')\n",
    "red_means"
   ]
  },
  {
   "cell_type": "code",
   "execution_count": 13,
   "metadata": {},
   "outputs": [
    {
     "data": {
      "text/plain": [
       "array(['Address', '200526210010_R01C01', '200526210010_R02C01'],\n",
       "      dtype='<U19')"
      ]
     },
     "execution_count": 13,
     "metadata": {},
     "output_type": "execute_result"
    }
   ],
   "source": [
    "red_columns"
   ]
  },
  {
   "cell_type": "code",
   "execution_count": 14,
   "metadata": {},
   "outputs": [
    {
     "data": {
      "text/plain": [
       "865933"
      ]
     },
     "execution_count": 14,
     "metadata": {},
     "output_type": "execute_result"
    }
   ],
   "source": [
    "raw_dataset.get_manifest_info(type='nLoci')"
   ]
  },
  {
   "cell_type": "code",
   "execution_count": 15,
   "metadata": {},
   "outputs": [
    {
     "data": {
      "text/plain": [
       "['cg15153141',\n",
       " 'cg24712639',\n",
       " 'cg11101316',\n",
       " 'cg00651363',\n",
       " 'cg17329035',\n",
       " 'cg26999725',\n",
       " 'cg01485189',\n",
       " 'cg06038599',\n",
       " 'cg11551740',\n",
       " 'cg07090691']"
      ]
     },
     "execution_count": 15,
     "metadata": {},
     "output_type": "execute_result"
    }
   ],
   "source": [
    "raw_dataset.get_manifest_info(type='locusNames')[0:10]"
   ]
  },
  {
   "cell_type": "code",
   "execution_count": 16,
   "metadata": {},
   "outputs": [
    {
     "data": {
      "text/plain": [
       "array([['cg07881041', 'cg07881041', '85713262', ..., '5236016.0', 'R',\n",
       "        'TypeII'],\n",
       "       ['cg18478105', 'cg18478105', '46761277', ..., '61847650.0', 'R',\n",
       "        'TypeI'],\n",
       "       ['cg23229610', 'cg23229610', '21717843', ..., '6841125.0', 'R',\n",
       "        'TypeII'],\n",
       "       ...,\n",
       "       ['73635489', 'NORM_T', 'Purple', ..., '', '', 'TypeControl'],\n",
       "       ['73784382', 'NORM_C', 'Green', ..., '', '', 'TypeControl'],\n",
       "       ['73794434', 'NORM_C', 'Green', ..., '', '', 'TypeControl']],\n",
       "      dtype='<U50')"
      ]
     },
     "execution_count": 16,
     "metadata": {},
     "output_type": "execute_result"
    }
   ],
   "source": [
    "raw_dataset.manifest"
   ]
  },
  {
   "cell_type": "markdown",
   "metadata": {},
   "source": [
    "### Preprocessing the data\n",
    "The raw red and green probe intensities need to be translated into methylation and unmethylation values. We can do this using the manifest information for our array. This step is completed as part of methpype's preprocessing functionality.\n",
    "\n",
    "In this preprocessing step, we can also choose to implement a normalization method to control for techinal and/or samples effects in the array. If we want no normalization, we can choose to run `preprocess_raw` from `methpype.preprocess`."
   ]
  },
  {
   "cell_type": "code",
   "execution_count": 17,
   "metadata": {},
   "outputs": [],
   "source": [
    "preprocessed_dataset = preprocess.preprocess_raw(raw_dataset)"
   ]
  },
  {
   "cell_type": "markdown",
   "metadata": {},
   "source": [
    "Preprocessing functions in methpype produce another object: a PreprocessDataset class object. This works much like a RawDataset object, but the data stored is now methylated and unmethylated values rather than raw, probe intensities."
   ]
  },
  {
   "cell_type": "code",
   "execution_count": 18,
   "metadata": {},
   "outputs": [
    {
     "data": {
      "text/plain": [
       "dict_keys(['methylation_columns', 'methylated', 'unmethylated', 'manifest', 'manifest_columns', 'array', 'preprocessing_method', 'mapped', 'samplesheet', 'data_type'])"
      ]
     },
     "execution_count": 18,
     "metadata": {},
     "output_type": "execute_result"
    }
   ],
   "source": [
    "preprocessed_dataset.keys()"
   ]
  },
  {
   "cell_type": "markdown",
   "metadata": {},
   "source": [
    "#### PreprocessDataset attributes\n",
    ">- **`methylation_columns:`** A one-dimensional numpy array containing the column headers for the methylated and unmethylated arrays.\n",
    ">- **`methylated:`** Two-dimensional numpy array containing the methylated values for each probe for each sample.\n",
    ">- **`unmethylated:`** Two-dimensional numpy array containing the unmethylated values for each probe for each sample.\n",
    ">- **`manifest:`** A two-dimensional numpy array containing the Illumina manifest information for our particular array. In this case the manifest pertains to an Illumina 450K array.\n",
    ">- **`manifest_columns:`** A one-dimensional numpy array containing the column headers for the manifest.\n",
    ">- **`array:`** A string specifying the Illumina array type. 450K, EPIC and Custom Life EGX EPIC+ arrays are currently supported.\n",
    ">- **`preprossing_method:`** String specifying the preprocessing method used to create the PreprocessDataset class.\n",
    ">- **`mapped:`** Boolean specifying whether the data has been mapped back to its genomic location. (More on this below.)\n",
    ">- **`sample_sheet:`** Our samplesheet dataframe that we read in earlier.\n",
    ">- **`data_type:`** String specifying the dataset type. In the case of a PreprocessDataset, the data_type will be \"Preprocess\". This is used internally by later functions to determine the dataset type. \n",
    "\n",
    "Each attribute can be accessed using dot notation. For example, we can get the array type of the dataset from `RawDataset.array`."
   ]
  },
  {
   "cell_type": "code",
   "execution_count": 19,
   "metadata": {},
   "outputs": [
    {
     "data": {
      "text/plain": [
       "array(['Name', '200526210010_R01C01', '200526210010_R02C01'], dtype='<U19')"
      ]
     },
     "execution_count": 19,
     "metadata": {},
     "output_type": "execute_result"
    }
   ],
   "source": [
    "preprocessed_dataset.methylation_columns"
   ]
  },
  {
   "cell_type": "code",
   "execution_count": 20,
   "metadata": {},
   "outputs": [
    {
     "data": {
      "text/plain": [
       "array([['cg17720087', '1707', '1480'],\n",
       "       ['cg12131279', '2925', '3416'],\n",
       "       ['cg01498090', '1533', '1201'],\n",
       "       ...,\n",
       "       ['cg17901106', '468', '494'],\n",
       "       ['cg24676740', '4034', '4295'],\n",
       "       ['cg16369651', '4015', '3897']], dtype='<U21')"
      ]
     },
     "execution_count": 20,
     "metadata": {},
     "output_type": "execute_result"
    }
   ],
   "source": [
    "preprocessed_dataset.methylated"
   ]
  },
  {
   "cell_type": "code",
   "execution_count": 21,
   "metadata": {},
   "outputs": [
    {
     "data": {
      "text/plain": [
       "array([['cg17720087', '1193', '594'],\n",
       "       ['cg12131279', '1280', '874'],\n",
       "       ['cg01498090', '1268', '1579'],\n",
       "       ...,\n",
       "       ['cg21848700', '2021', '2173'],\n",
       "       ['cg05555286', '3628', '3749'],\n",
       "       ['cg00865290', '2430', '2448']], dtype='<U21')"
      ]
     },
     "execution_count": 21,
     "metadata": {},
     "output_type": "execute_result"
    }
   ],
   "source": [
    "preprocessed_dataset.unmethylated"
   ]
  },
  {
   "cell_type": "code",
   "execution_count": 22,
   "metadata": {},
   "outputs": [
    {
     "data": {
      "text/plain": [
       "False"
      ]
     },
     "execution_count": 22,
     "metadata": {},
     "output_type": "execute_result"
    }
   ],
   "source": [
    "preprocessed_dataset.mapped"
   ]
  },
  {
   "cell_type": "markdown",
   "metadata": {},
   "source": [
    "As you can see, we have not yet mapped our probes back to their genomic information. We can do this using data in manifest by calling the `map_to_genome` function from `methpype.utils`."
   ]
  },
  {
   "cell_type": "code",
   "execution_count": 23,
   "metadata": {},
   "outputs": [
    {
     "data": {
      "text/plain": [
       "True"
      ]
     },
     "execution_count": 23,
     "metadata": {},
     "output_type": "execute_result"
    }
   ],
   "source": [
    "preprocessed_dataset = utils.map_to_genome(preprocessed_dataset)\n",
    "preprocessed_dataset.mapped"
   ]
  },
  {
   "cell_type": "markdown",
   "metadata": {},
   "source": [
    "Now our probes are mapped to their genomic locations, and we can see this in the updated methylated and unmethylated dataframes. Additionally, the manifest columns have been updated to include the chromosome, chromosome location, genome build and strand."
   ]
  },
  {
   "cell_type": "code",
   "execution_count": 24,
   "metadata": {},
   "outputs": [
    {
     "data": {
      "text/plain": [
       "array([['cg17720087', '1707', '1480', ..., 'R', '37.0', '21964652.0'],\n",
       "       ['cg12131279', '2925', '3416', ..., 'R', '37.0', '61951439.0'],\n",
       "       ['cg01498090', '1533', '1201', ..., 'F', '37.0', '12885115.0'],\n",
       "       ...,\n",
       "       ['cg17901106', '468', '494', ..., 'F', '37.0', '2162412.0'],\n",
       "       ['cg24676740', '4034', '4295', ..., 'F', '37.0', '33236289.0'],\n",
       "       ['cg16369651', '4015', '3897', ..., 'R', '37.0', '55410420.0']],\n",
       "      dtype='<U21')"
      ]
     },
     "execution_count": 24,
     "metadata": {},
     "output_type": "execute_result"
    }
   ],
   "source": [
    "preprocessed_dataset.methylated"
   ]
  },
  {
   "cell_type": "code",
   "execution_count": 25,
   "metadata": {},
   "outputs": [
    {
     "data": {
      "text/plain": [
       "array(['Name', '200526210010_R01C01', '200526210010_R02C01', 'Chromosome',\n",
       "       'Strand', 'Genome_Build', 'MapInfo'], dtype='<U19')"
      ]
     },
     "execution_count": 25,
     "metadata": {},
     "output_type": "execute_result"
    }
   ],
   "source": [
    "preprocessed_dataset.methylation_columns"
   ]
  },
  {
   "cell_type": "code",
   "execution_count": 26,
   "metadata": {},
   "outputs": [],
   "source": [
    "import numpy as np\n",
    "data_to_write = np.vstack([preprocessed_dataset.methylation_columns.astype(str),preprocessed_dataset.methylated.astype(str)])\n",
    "np.savetxt(\"methylated.csv\", data_to_write, delimiter=',', fmt='%s')\n",
    "data_to_write = np.vstack([preprocessed_dataset.methylation_columns.astype(str),preprocessed_dataset.unmethylated.astype(str)])\n",
    "np.savetxt(\"unmethylated.csv\", data_to_write, delimiter=',', fmt='%s')"
   ]
  },
  {
   "cell_type": "markdown",
   "metadata": {},
   "source": [
    "### Data postprocessing \n",
    "The final steps in the methpype pipeline allow you to post-process your methylated and unmethylated values to commonly used measures in the field. M and Beta values are commonly used measures for reporting methylation levels.\n",
    "\n",
    "#### Beta value\n",
    "\\begin{equation*}\n",
    "\\beta = \\frac{M}{M+ U+ 100}\n",
    "\\end{equation*}\n",
    "\n",
    "#### M value\n",
    "\\begin{equation*}\n",
    "Mval = log_2\\left(\\frac{M}{U}\\right)\n",
    "\\end{equation*}\n",
    "\n",
    "Where M and U denote the methylated and unmethylated signals, respectively. \n",
    "\n",
    "Let's calculate Beta values using `get_beta` from `methpype.postprocess`.\n"
   ]
  },
  {
   "cell_type": "code",
   "execution_count": 27,
   "metadata": {},
   "outputs": [
    {
     "data": {
      "text/plain": [
       "array([['cg00000029', '0.17630597014925373', '0.238898756660746'],\n",
       "       ['cg00000103', '0.3870967741935484', '0.5451788963007883'],\n",
       "       ['cg00000109', '0.6396028037383178', '0.7565104166666666'],\n",
       "       ...,\n",
       "       ['ch.X.97651759F', '0.11287048315062931', '0.10126582278481013'],\n",
       "       ['ch.X.97737721F', '0.11634887005649718', '0.12610812835559995'],\n",
       "       ['ch.X.98007042R', '0.12900926585887385', '0.14935064935064934']],\n",
       "      dtype='<U32')"
      ]
     },
     "execution_count": 27,
     "metadata": {},
     "output_type": "execute_result"
    }
   ],
   "source": [
    "b_values,b_columns = postprocess.get_beta(preprocessed_dataset)\n",
    "b_values"
   ]
  },
  {
   "cell_type": "code",
   "execution_count": 28,
   "metadata": {},
   "outputs": [
    {
     "data": {
      "text/plain": [
       "array(['Name', '200526210010_R01C01', '200526210010_R02C01'], dtype='<U19')"
      ]
     },
     "execution_count": 28,
     "metadata": {},
     "output_type": "execute_result"
    }
   ],
   "source": [
    "b_columns"
   ]
  },
  {
   "cell_type": "code",
   "execution_count": null,
   "metadata": {},
   "outputs": [],
   "source": []
  }
 ],
 "metadata": {
  "kernelspec": {
   "display_name": "Python 3",
   "language": "python",
   "name": "python3"
  },
  "language_info": {
   "codemirror_mode": {
    "name": "ipython",
    "version": 3
   },
   "file_extension": ".py",
   "mimetype": "text/x-python",
   "name": "python",
   "nbconvert_exporter": "python",
   "pygments_lexer": "ipython3",
   "version": "3.6.6"
  }
 },
 "nbformat": 4,
 "nbformat_minor": 2
}
